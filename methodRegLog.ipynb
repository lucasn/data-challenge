{
 "cells": [
  {
   "cell_type": "code",
   "execution_count": 1,
   "metadata": {},
   "outputs": [],
   "source": [
    "import numpy as np\n",
    "import pandas as pd\n",
    "from sklearn.model_selection import train_test_split\n",
    "from sklearn.preprocessing import StandardScaler\n",
    "from sklearn.metrics import accuracy_score"
   ]
  },
  {
   "cell_type": "code",
   "execution_count": 2,
   "metadata": {},
   "outputs": [],
   "source": [
    "base_path = './data'\n",
    "\n",
    "path_player_away_train = f'{base_path}/Train_Data/train_away_player_statistics_df.csv'\n",
    "path_player_home_train = f'{base_path}/Train_Data/train_home_player_statistics_df.csv'\n",
    "path_team_away_train = f'{base_path}/Train_Data/train_away_team_statistics_df.csv'\n",
    "path_team_home_train = f'{base_path}/Train_Data/train_home_team_statistics_df.csv'\n",
    "path_target = f'{base_path}/Y_train_1rknArQ.csv'\n",
    "path_target_sup = f'{base_path}/benchmark_and_extras/Y_train_supp.csv'"
   ]
  },
  {
   "cell_type": "code",
   "execution_count": 3,
   "metadata": {},
   "outputs": [],
   "source": [
    "train_target = pd.read_csv(path_target, sep=',')  \n",
    "train_team = pd.read_csv('train_team.csv', sep = ',' ) \n",
    "\n",
    "X = train_team.drop(columns=['ID', 'HOME_LEAGUE', 'HOME_TEAM_NAME', 'AWAY_LEAGUE', 'AWAY_TEAM_NAME'])\n",
    "y = train_target[['HOME_WINS',\t'DRAW',\t'AWAY_WINS']].values"
   ]
  },
  {
   "cell_type": "code",
   "execution_count": 4,
   "metadata": {},
   "outputs": [],
   "source": [
    "X_train, X_test, y_train, y_test = train_test_split(X, y, test_size=0.2, random_state=42)"
   ]
  },
  {
   "cell_type": "code",
   "execution_count": 5,
   "metadata": {},
   "outputs": [],
   "source": [
    "scaler = StandardScaler()\n",
    "X_train = scaler.fit_transform(X_train)\n",
    "X_test = scaler.transform(X_test)"
   ]
  },
  {
   "cell_type": "code",
   "execution_count": 6,
   "metadata": {},
   "outputs": [],
   "source": [
    "def softmax(z):\n",
    "    exp_z = np.exp(z - np.max(z, axis=1, keepdims=True))  \n",
    "    return exp_z / np.sum(exp_z, axis=1, keepdims=True)\n",
    "\n",
    "def cross_entropy_loss(y_true, y_pred):\n",
    "    n_samples = y_true.shape[0]\n",
    "    loss = -np.sum(y_true * np.log(y_pred + 1e-15)) / n_samples\n",
    "    return loss\n",
    "\n",
    "def gradient_descent(X, y, lr=0.01, n_iter=1000):\n",
    "    n_samples, n_features = X.shape\n",
    "    n_classes = y.shape[1]\n",
    "    \n",
    "    weights = np.zeros((n_features, n_classes))\n",
    "    bias = np.zeros((1, n_classes))\n",
    "    \n",
    "    for i in range(n_iter):\n",
    "        linear_model = np.dot(X, weights) + bias\n",
    "        y_pred = softmax(linear_model)\n",
    "        \n",
    "        loss = cross_entropy_loss(y, y_pred)\n",
    "        \n",
    "        dw = np.dot(X.T, (y_pred - y)) / n_samples\n",
    "        db = np.sum(y_pred - y, axis=0, keepdims=True) / n_samples\n",
    "        \n",
    "        weights -= lr * dw\n",
    "        bias -= lr * db\n",
    "        \n",
    "        if i % 100 == 0:\n",
    "            print(f\"Iteration {i}: Loss = {loss}\")\n",
    "    \n",
    "    return weights, bias\n",
    "\n",
    "def predict(X, weights, bias):\n",
    "    linear_model = np.dot(X, weights) + bias\n",
    "    probabilities = softmax(linear_model)\n",
    "    return np.argmax(probabilities, axis=1) \n"
   ]
  },
  {
   "cell_type": "code",
   "execution_count": 7,
   "metadata": {},
   "outputs": [
    {
     "name": "stdout",
     "output_type": "stream",
     "text": [
      "Iteration 0: Loss = nan\n",
      "Iteration 100: Loss = nan\n",
      "Iteration 200: Loss = nan\n",
      "Iteration 300: Loss = nan\n",
      "Iteration 400: Loss = nan\n",
      "Iteration 500: Loss = nan\n",
      "Iteration 600: Loss = nan\n",
      "Iteration 700: Loss = nan\n",
      "Iteration 800: Loss = nan\n",
      "Iteration 900: Loss = nan\n"
     ]
    }
   ],
   "source": [
    "weights, bias = gradient_descent(X_train, y_train, lr=0.1, n_iter=1000)"
   ]
  },
  {
   "cell_type": "code",
   "execution_count": 8,
   "metadata": {},
   "outputs": [],
   "source": [
    "y_pred = predict(X_test, weights, bias)\n",
    "y_test = np.argmax(y_test, axis=1)"
   ]
  },
  {
   "cell_type": "code",
   "execution_count": 9,
   "metadata": {},
   "outputs": [
    {
     "data": {
      "text/plain": [
       "0.440065014221861"
      ]
     },
     "execution_count": 9,
     "metadata": {},
     "output_type": "execute_result"
    }
   ],
   "source": [
    "accuracy_score(y_test, y_pred)"
   ]
  },
  {
   "cell_type": "code",
   "execution_count": 10,
   "metadata": {},
   "outputs": [],
   "source": [
    "path_team_away_test = f'{base_path}/Test_Data/test_away_team_statistics_df.csv'\n",
    "path_team_home_test = f'{base_path}/Test_Data/test_home_team_statistics_df.csv'\n",
    "\n",
    "test_team_home = pd.read_csv(path_team_home_test, sep=',')\n",
    "test_team_away = pd.read_csv(path_team_away_test, sep=',')\n",
    "\n",
    "test_team_home.columns = 'HOME_' + test_team_home.columns\n",
    "test_team_away.columns = 'AWAY_' + test_team_away.columns\n",
    "\n",
    "test_team =  pd.concat([test_team_home, test_team_away.iloc[:, 1:]],join='inner',axis=1)\n",
    "test_team = test_team.rename(columns={'HOME_ID':'ID'})"
   ]
  },
  {
   "cell_type": "code",
   "execution_count": 11,
   "metadata": {},
   "outputs": [],
   "source": [
    "predictions = predict(test_team.drop(columns=['ID']), weights, bias)"
   ]
  },
  {
   "cell_type": "code",
   "execution_count": 12,
   "metadata": {},
   "outputs": [],
   "source": [
    "p = []\n",
    "for pred in predictions:\n",
    "    _p = np.zeros(3, dtype=np.int32)\n",
    "    _p[pred - 1] = 1 \n",
    "    p.append(_p)"
   ]
  },
  {
   "cell_type": "code",
   "execution_count": 13,
   "metadata": {},
   "outputs": [],
   "source": [
    "pred_sub = pd.DataFrame(data=p, columns=['HOME_WINS', 'DRAW', 'AWAY_WINS'])"
   ]
  },
  {
   "cell_type": "code",
   "execution_count": 14,
   "metadata": {},
   "outputs": [],
   "source": [
    "pred_sub = pd.concat([test_team['ID'], pred_sub],join='inner',axis=1)"
   ]
  },
  {
   "cell_type": "code",
   "execution_count": 15,
   "metadata": {},
   "outputs": [],
   "source": [
    "pred_sub.to_csv('./submission_Reglog.csv', index=False)"
   ]
  }
 ],
 "metadata": {
  "kernelspec": {
   "display_name": "base",
   "language": "python",
   "name": "python3"
  },
  "language_info": {
   "codemirror_mode": {
    "name": "ipython",
    "version": 3
   },
   "file_extension": ".py",
   "mimetype": "text/x-python",
   "name": "python",
   "nbconvert_exporter": "python",
   "pygments_lexer": "ipython3",
   "version": "3.12.4"
  }
 },
 "nbformat": 4,
 "nbformat_minor": 2
}
