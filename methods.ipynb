{
 "cells": [
  {
   "cell_type": "code",
   "execution_count": 4,
   "metadata": {},
   "outputs": [],
   "source": [
    "import pandas as pd\n",
    "import numpy as np\n",
    "import matplotlib.pyplot as plt\n",
    "import seaborn as sns\n",
    "from sklearn.model_selection import train_test_split, KFold, GridSearchCV\n",
    "from sklearn.tree import DecisionTreeClassifier\n",
    "from sklearn.ensemble import RandomForestClassifier, RandomForestRegressor\n",
    "from sklearn.metrics import accuracy_score\n"
   ]
  },
  {
   "cell_type": "markdown",
   "metadata": {},
   "source": [
    "### Séparation train/test"
   ]
  },
  {
   "cell_type": "markdown",
   "metadata": {},
   "source": [
    "**Mais avant de faire l'imputation, on fait la séparation des ensembles d'entraînement et de test**"
   ]
  },
  {
   "cell_type": "code",
   "execution_count": null,
   "metadata": {},
   "outputs": [],
   "source": [
    "X_train, X_test, y_train, y_test = train_test_split(train_team, train_target['HOME_WINS'], test_size=0.2, random_state=42)"
   ]
  },
  {
   "cell_type": "code",
   "execution_count": null,
   "metadata": {},
   "outputs": [],
   "source": [
    "print(f\"Nombre de données d'entrainement: {X_train.shape[0]}\")\n",
    "print(f\"Nombre de données de test: {X_test.shape[0]}\")"
   ]
  },
  {
   "cell_type": "markdown",
   "metadata": {},
   "source": [
    "### Imputation des données"
   ]
  },
  {
   "cell_type": "markdown",
   "metadata": {},
   "source": [
    "On calcule la médiane des colonnes dans l'ensemble d'entraînement et on l'utilise pour imputer les données manquantes dans l'ensemble d'entraînement et de test"
   ]
  },
  {
   "cell_type": "code",
   "execution_count": null,
   "metadata": {},
   "outputs": [],
   "source": [
    "for column in column_missing_values[column_missing_values > 0].index:\n",
    "    _column_median = X_train[column].median()\n",
    "\n",
    "    if X_train[column].isna().sum() > 0:\n",
    "        X_train[column] = X_train[column].fillna(_column_median)\n",
    "\n",
    "    if X_test[column].isna().sum() > 0:\n",
    "        X_test[column] = X_test[column].fillna(_column_median)"
   ]
  },
  {
   "cell_type": "code",
   "execution_count": null,
   "metadata": {},
   "outputs": [],
   "source": [
    "print(f'Nombre de valeurs manquantes dans le train: {X_train.isna().sum().sum()}')\n",
    "print(f'Nombre de valeurs manquantes dans le test: {X_test.isna().sum().sum()}')"
   ]
  },
  {
   "cell_type": "markdown",
   "metadata": {},
   "source": [
    "## Classification Tree"
   ]
  },
  {
   "cell_type": "markdown",
   "metadata": {},
   "source": [
    "Cette partie n'est pas encore fini, ne pas considerer"
   ]
  },
  {
   "cell_type": "code",
   "execution_count": null,
   "metadata": {},
   "outputs": [],
   "source": [
    "my_kfold = KFold(n_splits=5, shuffle=True, random_state=42)\n",
    "\n",
    "\n",
    "parameters = {'n_estimators': range(5, 100, 20)}\n",
    "\n",
    "firstRF = GridSearchCV(estimator=RandomForestRegressor(random_state=42), param_grid=parameters, n_jobs=-1, cv=my_kfold)\n",
    "\n",
    "firstRF.fit(X_train, y_train)\n",
    "cv_score = firstRF.cv_results_['mean_test_score']"
   ]
  },
  {
   "cell_type": "code",
   "execution_count": null,
   "metadata": {},
   "outputs": [],
   "source": [
    "firstRF.score(X_test, y_test)"
   ]
  },
  {
   "cell_type": "code",
   "execution_count": null,
   "metadata": {},
   "outputs": [],
   "source": [
    "rf = RandomForestClassifier(n_estimators=20, max_features=4, random_state=42).fit(X_train, y_train)"
   ]
  },
  {
   "cell_type": "code",
   "execution_count": null,
   "metadata": {},
   "outputs": [],
   "source": [
    "rf.score(X_test, y_test)"
   ]
  },
  {
   "cell_type": "markdown",
   "metadata": {},
   "source": [
    "## Submission"
   ]
  },
  {
   "cell_type": "code",
   "execution_count": null,
   "metadata": {},
   "outputs": [],
   "source": [
    "path_team_away_test = f'{base_path}/Test_Data/test_away_team_statistics_df.csv'\n",
    "path_team_home_test = f'{base_path}/Test_Data/test_home_team_statistics_df.csv'\n",
    "\n",
    "test_team_home = pd.read_csv(path_team_home_test, sep=',')\n",
    "test_team_away = pd.read_csv(path_team_away_test, sep=',')\n",
    "\n",
    "test_team_home.columns = 'HOME_' + test_team_home.columns\n",
    "test_team_away.columns = 'AWAY_' + test_team_away.columns\n",
    "\n",
    "test_team =  pd.concat([test_team_home, test_team_away.iloc[:, 1:]],join='inner',axis=1)\n",
    "test_team = test_team.rename(columns={'HOME_ID':'ID'})"
   ]
  },
  {
   "cell_type": "code",
   "execution_count": null,
   "metadata": {},
   "outputs": [],
   "source": [
    "test_team"
   ]
  },
  {
   "cell_type": "code",
   "execution_count": null,
   "metadata": {},
   "outputs": [],
   "source": [
    "predictions = rf.predict(test_team.drop(columns=['ID']))"
   ]
  },
  {
   "cell_type": "code",
   "execution_count": null,
   "metadata": {},
   "outputs": [],
   "source": [
    "pred = pd.DataFrame(data={'HOME_WINS': predictions, 'DRAW': np.zeros(len(predictions), dtype=int), 'AWAY_WINS': [int(not x) for x in predictions]})\n",
    "pred = pd.concat([test_team['ID'], pred],join='inner',axis=1)\n",
    "pred"
   ]
  },
  {
   "cell_type": "code",
   "execution_count": null,
   "metadata": {},
   "outputs": [],
   "source": [
    "pred.to_csv('./submission.csv', index=False)"
   ]
  }
 ],
 "metadata": {
  "kernelspec": {
   "display_name": "base",
   "language": "python",
   "name": "python3"
  },
  "language_info": {
   "codemirror_mode": {
    "name": "ipython",
    "version": 3
   },
   "file_extension": ".py",
   "mimetype": "text/x-python",
   "name": "python",
   "nbconvert_exporter": "python",
   "pygments_lexer": "ipython3",
   "version": "3.12.4"
  }
 },
 "nbformat": 4,
 "nbformat_minor": 2
}
