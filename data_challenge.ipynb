{
 "cells": [
  {
   "cell_type": "markdown",
   "metadata": {},
   "source": [
    "# Challenge Data - Football: qui va gagner ?"
   ]
  },
  {
   "cell_type": "code",
   "execution_count": 5,
   "metadata": {
    "id": "gA9pCV85g0ok"
   },
   "outputs": [],
   "source": [
    "import pandas as pd\n",
    "import numpy as np\n",
    "import matplotlib.pyplot as plt\n",
    "import seaborn as sns\n",
    "\n",
    "# Pour utiliser les donnés sur Google Drive\n",
    "COLAB = False"
   ]
  },
  {
   "cell_type": "code",
   "execution_count": null,
   "metadata": {
    "colab": {
     "base_uri": "https://localhost:8080/"
    },
    "id": "hM9wI1XGf0Il",
    "outputId": "066c0b40-dd3d-4870-d8dd-82ff42c76cf0"
   },
   "outputs": [
    {
     "name": "stdout",
     "output_type": "stream",
     "text": [
      "Drive already mounted at /content/drive/; to attempt to forcibly remount, call drive.mount(\"/content/drive/\", force_remount=True).\n"
     ]
    }
   ],
   "source": [
    "if COLAB:\n",
    "    from google.colab import drive\n",
    "    drive.mount('/content/drive/')"
   ]
  },
  {
   "cell_type": "code",
   "execution_count": 17,
   "metadata": {
    "id": "dXdT0WlrgJ2t"
   },
   "outputs": [],
   "source": [
    "if COLAB:\n",
    "    base_path = '/content/drive/MyDrive/data-challenge'\n",
    "else:\n",
    "    base_path = './data'\n",
    "\n",
    "path_player_away_train = f'{base_path}/Train_Data/train_away_player_statistics_df.csv'\n",
    "path_player_home_train = f'{base_path}/Train_Data/train_home_player_statistics_df.csv'\n",
    "path_team_away_train = f'{base_path}/Train_Data/train_away_team_statistics_df.csv'\n",
    "path_team_home_train = f'{base_path}/Train_Data/train_home_team_statistics_df.csv'\n",
    "path_target = f'{base_path}/Y_train_1rknArQ.csv'\n",
    "path_target_sup = f'{base_path}/benchmark_and_extras/Y_train_supp.csv'"
   ]
  },
  {
   "cell_type": "markdown",
   "metadata": {
    "id": "Qa87m6qkLoC7"
   },
   "source": [
    "## Exploration des données"
   ]
  },
  {
   "cell_type": "markdown",
   "metadata": {},
   "source": [
    "### Lecture des données"
   ]
  },
  {
   "cell_type": "code",
   "execution_count": 31,
   "metadata": {},
   "outputs": [],
   "source": [
    "train_team_home = pd.read_csv(path_team_home_train, sep=',')\n",
    "train_team_away = pd.read_csv(path_team_away_train, sep=',')\n",
    "\n",
    "train_player_away = pd.read_csv(path_player_away_train, sep=',')\n",
    "train_player_home = pd.read_csv(path_player_home_train, sep=',')"
   ]
  },
  {
   "cell_type": "code",
   "execution_count": 32,
   "metadata": {},
   "outputs": [],
   "source": [
    "train_target = pd.read_csv(path_target, sep=',')\n",
    "train_target_sup = pd.read_csv(path_target_sup, sep=',')"
   ]
  },
  {
   "cell_type": "markdown",
   "metadata": {},
   "source": [
    "On va combiner les données des équipes"
   ]
  },
  {
   "cell_type": "code",
   "execution_count": null,
   "metadata": {},
   "outputs": [],
   "source": [
    "train_team_home.columns = 'HOME_' + train_team_home.columns\n",
    "train_team_away.columns = 'AWAY_' + train_team_away.columns"
   ]
  },
  {
   "cell_type": "code",
   "execution_count": 39,
   "metadata": {},
   "outputs": [],
   "source": [
    "train_team =  pd.concat([train_team_home.iloc[:, 2:], train_team_away.iloc[:, 2:]],join='inner',axis=1)"
   ]
  },
  {
   "cell_type": "code",
   "execution_count": 81,
   "metadata": {},
   "outputs": [
    {
     "name": "stdout",
     "output_type": "stream",
     "text": [
      "Dimension du dataset: (12303, 282)\n"
     ]
    }
   ],
   "source": [
    "print(f'Dimension du dataset: {train_team.shape}')"
   ]
  },
  {
   "cell_type": "markdown",
   "metadata": {},
   "source": [
    "En analysant les données manquantes sur les colonnes, on voit que la colonne avec le plus de données manquantes a un percentage de 27% de données manquantes "
   ]
  },
  {
   "cell_type": "code",
   "execution_count": 93,
   "metadata": {},
   "outputs": [
    {
     "data": {
      "text/plain": [
       "HOME_TEAM_INJURIES_5_last_match_std                 0.269690\n",
       "AWAY_TEAM_INJURIES_5_last_match_std                 0.269284\n",
       "AWAY_TEAM_INJURIES_5_last_match_sum                 0.238397\n",
       "AWAY_TEAM_INJURIES_5_last_match_average             0.238316\n",
       "HOME_TEAM_INJURIES_5_last_match_sum                 0.238316\n",
       "                                                      ...   \n",
       "AWAY_TEAM_ATTACKS_5_last_match_average              0.000000\n",
       "AWAY_TEAM_DANGEROUS_ATTACKS_5_last_match_average    0.000000\n",
       "HOME_TEAM_SHOTS_OFF_TARGET_season_sum               0.000000\n",
       "AWAY_TEAM_DANGEROUS_ATTACKS_5_last_match_std        0.000000\n",
       "HOME_TEAM_NAME                                      0.000000\n",
       "Length: 282, dtype: float64"
      ]
     },
     "execution_count": 93,
     "metadata": {},
     "output_type": "execute_result"
    }
   ],
   "source": [
    "colonne_missing_values = train_team.isna().sum().sort_values(ascending=False)/train_team.shape[0]\n",
    "colonne_missing_values"
   ]
  },
  {
   "cell_type": "code",
   "execution_count": 106,
   "metadata": {},
   "outputs": [
    {
     "name": "stdout",
     "output_type": "stream",
     "text": [
      "Percentage de colonnes avec de données manquantes: 83.688 %\n"
     ]
    }
   ],
   "source": [
    "print(f'Percentage de colonnes avec de données manquantes: {len(colonne_missing_values[colonne_missing_values > 0])*100/len(colonne_missing_values):.3f} %')"
   ]
  },
  {
   "cell_type": "markdown",
   "metadata": {},
   "source": [
    "En analysant sur les lignes, on voit qu'on a des lignes avec beaucoup de données manquantes (> 50%)"
   ]
  },
  {
   "cell_type": "code",
   "execution_count": 88,
   "metadata": {},
   "outputs": [
    {
     "data": {
      "text/plain": [
       "5646     0.553191\n",
       "10163    0.553191\n",
       "4624     0.439716\n",
       "835      0.432624\n",
       "8538     0.432624\n",
       "           ...   \n",
       "12272    0.000000\n",
       "12271    0.000000\n",
       "12275    0.000000\n",
       "18       0.000000\n",
       "15       0.000000\n",
       "Length: 12303, dtype: float64"
      ]
     },
     "execution_count": 88,
     "metadata": {},
     "output_type": "execute_result"
    }
   ],
   "source": [
    "row_missing_values = train_team.isna().sum(axis=1).sort_values(ascending=False)/train_team.shape[1]\n",
    "row_missing_values"
   ]
  },
  {
   "cell_type": "code",
   "execution_count": 105,
   "metadata": {},
   "outputs": [
    {
     "name": "stdout",
     "output_type": "stream",
     "text": [
      "Percentage de lignes avec de données manquantes: 32.838 %\n"
     ]
    }
   ],
   "source": [
    "print(f'Percentage de lignes avec de données manquantes: {len(row_missing_values[row_missing_values > 0])*100/len(row_missing_values):.3f} %')"
   ]
  },
  {
   "cell_type": "markdown",
   "metadata": {},
   "source": [
    "Dans un premier moment, on ne va pas enlever des lignes/colonnes pour ne pas prendre le risque de perdre des informations avec cette opération\n",
    "\n",
    "Comme la colonne avec le plus de données manquantes a 25% de données manquantes, on va faire une imputation des données\n",
    "\n",
    "On considère qu'on va avoir suffisament des données pour faire cette imputation sans inserer beaucoup de biais"
   ]
  },
  {
   "cell_type": "code",
   "execution_count": 107,
   "metadata": {},
   "outputs": [],
   "source": [
    "# TODO: faire imputation"
   ]
  },
  {
   "cell_type": "markdown",
   "metadata": {
    "id": "GQ5tQQCnLz6l"
   },
   "source": [
    "*Player away statistics*"
   ]
  },
  {
   "cell_type": "code",
   "execution_count": 10,
   "metadata": {
    "colab": {
     "base_uri": "https://localhost:8080/",
     "height": 263
    },
    "id": "ns_fODdtmcRz",
    "outputId": "bd249cdd-d441-4d0f-9001-cb2df2409415"
   },
   "outputs": [
    {
     "name": "stdout",
     "output_type": "stream",
     "text": [
      "dimension of the dataset: (236132, 307)\n"
     ]
    },
    {
     "data": {
      "text/html": [
       "<div>\n",
       "<style scoped>\n",
       "    .dataframe tbody tr th:only-of-type {\n",
       "        vertical-align: middle;\n",
       "    }\n",
       "\n",
       "    .dataframe tbody tr th {\n",
       "        vertical-align: top;\n",
       "    }\n",
       "\n",
       "    .dataframe thead th {\n",
       "        text-align: right;\n",
       "    }\n",
       "</style>\n",
       "<table border=\"1\" class=\"dataframe\">\n",
       "  <thead>\n",
       "    <tr style=\"text-align: right;\">\n",
       "      <th></th>\n",
       "      <th>ID</th>\n",
       "      <th>LEAGUE</th>\n",
       "      <th>TEAM_NAME</th>\n",
       "      <th>POSITION</th>\n",
       "      <th>PLAYER_NAME</th>\n",
       "      <th>PLAYER_ACCURATE_CROSSES_season_sum</th>\n",
       "      <th>PLAYER_ACCURATE_PASSES_season_sum</th>\n",
       "      <th>PLAYER_AERIALS_WON_season_sum</th>\n",
       "      <th>PLAYER_ASSISTS_season_sum</th>\n",
       "      <th>PLAYER_BIG_CHANCES_CREATED_season_sum</th>\n",
       "      <th>...</th>\n",
       "      <th>PLAYER_STARTING_LINEUP_5_last_match_std</th>\n",
       "      <th>PLAYER_SUCCESSFUL_DRIBBLES_5_last_match_std</th>\n",
       "      <th>PLAYER_TACKLES_5_last_match_std</th>\n",
       "      <th>PLAYER_TOTAL_CROSSES_5_last_match_std</th>\n",
       "      <th>PLAYER_TOTAL_DUELS_5_last_match_std</th>\n",
       "      <th>PLAYER_YELLOWCARDS_5_last_match_std</th>\n",
       "      <th>PLAYER_PUNCHES_5_last_match_std</th>\n",
       "      <th>PLAYER_LONG_BALLS_5_last_match_std</th>\n",
       "      <th>PLAYER_LONG_BALLS_WON_5_last_match_std</th>\n",
       "      <th>PLAYER_SHOTS_OFF_TARGET_5_last_match_std</th>\n",
       "    </tr>\n",
       "  </thead>\n",
       "  <tbody>\n",
       "    <tr>\n",
       "      <th>0</th>\n",
       "      <td>0</td>\n",
       "      <td>Ligue 1</td>\n",
       "      <td>Olympique Marseille</td>\n",
       "      <td>defender</td>\n",
       "      <td>Lucas Perrin</td>\n",
       "      <td>0.0</td>\n",
       "      <td>19.0</td>\n",
       "      <td>20.0</td>\n",
       "      <td>0.0</td>\n",
       "      <td>0.0</td>\n",
       "      <td>...</td>\n",
       "      <td>70.0</td>\n",
       "      <td>30.0</td>\n",
       "      <td>46.0</td>\n",
       "      <td>0.0</td>\n",
       "      <td>79.0</td>\n",
       "      <td>99.0</td>\n",
       "      <td>NaN</td>\n",
       "      <td>NaN</td>\n",
       "      <td>NaN</td>\n",
       "      <td>NaN</td>\n",
       "    </tr>\n",
       "    <tr>\n",
       "      <th>1</th>\n",
       "      <td>0</td>\n",
       "      <td>Ligue 1</td>\n",
       "      <td>Olympique Marseille</td>\n",
       "      <td>midfielder</td>\n",
       "      <td>Kevin Strootman</td>\n",
       "      <td>2.0</td>\n",
       "      <td>48.0</td>\n",
       "      <td>19.0</td>\n",
       "      <td>28.0</td>\n",
       "      <td>8.0</td>\n",
       "      <td>...</td>\n",
       "      <td>77.0</td>\n",
       "      <td>0.0</td>\n",
       "      <td>40.0</td>\n",
       "      <td>6.0</td>\n",
       "      <td>46.0</td>\n",
       "      <td>77.0</td>\n",
       "      <td>NaN</td>\n",
       "      <td>NaN</td>\n",
       "      <td>NaN</td>\n",
       "      <td>NaN</td>\n",
       "    </tr>\n",
       "    <tr>\n",
       "      <th>2</th>\n",
       "      <td>0</td>\n",
       "      <td>Ligue 1</td>\n",
       "      <td>Olympique Marseille</td>\n",
       "      <td>goalkeeper</td>\n",
       "      <td>Yohann Pelé</td>\n",
       "      <td>0.0</td>\n",
       "      <td>0.0</td>\n",
       "      <td>0.0</td>\n",
       "      <td>0.0</td>\n",
       "      <td>0.0</td>\n",
       "      <td>...</td>\n",
       "      <td>0.0</td>\n",
       "      <td>0.0</td>\n",
       "      <td>0.0</td>\n",
       "      <td>0.0</td>\n",
       "      <td>0.0</td>\n",
       "      <td>0.0</td>\n",
       "      <td>NaN</td>\n",
       "      <td>NaN</td>\n",
       "      <td>NaN</td>\n",
       "      <td>NaN</td>\n",
       "    </tr>\n",
       "  </tbody>\n",
       "</table>\n",
       "<p>3 rows × 307 columns</p>\n",
       "</div>"
      ],
      "text/plain": [
       "   ID   LEAGUE            TEAM_NAME    POSITION      PLAYER_NAME  \\\n",
       "0   0  Ligue 1  Olympique Marseille    defender     Lucas Perrin   \n",
       "1   0  Ligue 1  Olympique Marseille  midfielder  Kevin Strootman   \n",
       "2   0  Ligue 1  Olympique Marseille  goalkeeper      Yohann Pelé   \n",
       "\n",
       "   PLAYER_ACCURATE_CROSSES_season_sum  PLAYER_ACCURATE_PASSES_season_sum  \\\n",
       "0                                 0.0                               19.0   \n",
       "1                                 2.0                               48.0   \n",
       "2                                 0.0                                0.0   \n",
       "\n",
       "   PLAYER_AERIALS_WON_season_sum  PLAYER_ASSISTS_season_sum  \\\n",
       "0                           20.0                        0.0   \n",
       "1                           19.0                       28.0   \n",
       "2                            0.0                        0.0   \n",
       "\n",
       "   PLAYER_BIG_CHANCES_CREATED_season_sum  ...  \\\n",
       "0                                    0.0  ...   \n",
       "1                                    8.0  ...   \n",
       "2                                    0.0  ...   \n",
       "\n",
       "   PLAYER_STARTING_LINEUP_5_last_match_std  \\\n",
       "0                                     70.0   \n",
       "1                                     77.0   \n",
       "2                                      0.0   \n",
       "\n",
       "   PLAYER_SUCCESSFUL_DRIBBLES_5_last_match_std  \\\n",
       "0                                         30.0   \n",
       "1                                          0.0   \n",
       "2                                          0.0   \n",
       "\n",
       "   PLAYER_TACKLES_5_last_match_std  PLAYER_TOTAL_CROSSES_5_last_match_std  \\\n",
       "0                             46.0                                    0.0   \n",
       "1                             40.0                                    6.0   \n",
       "2                              0.0                                    0.0   \n",
       "\n",
       "   PLAYER_TOTAL_DUELS_5_last_match_std  PLAYER_YELLOWCARDS_5_last_match_std  \\\n",
       "0                                 79.0                                 99.0   \n",
       "1                                 46.0                                 77.0   \n",
       "2                                  0.0                                  0.0   \n",
       "\n",
       "   PLAYER_PUNCHES_5_last_match_std  PLAYER_LONG_BALLS_5_last_match_std  \\\n",
       "0                              NaN                                 NaN   \n",
       "1                              NaN                                 NaN   \n",
       "2                              NaN                                 NaN   \n",
       "\n",
       "   PLAYER_LONG_BALLS_WON_5_last_match_std  \\\n",
       "0                                     NaN   \n",
       "1                                     NaN   \n",
       "2                                     NaN   \n",
       "\n",
       "   PLAYER_SHOTS_OFF_TARGET_5_last_match_std  \n",
       "0                                       NaN  \n",
       "1                                       NaN  \n",
       "2                                       NaN  \n",
       "\n",
       "[3 rows x 307 columns]"
      ]
     },
     "execution_count": 10,
     "metadata": {},
     "output_type": "execute_result"
    }
   ],
   "source": [
    "print('dimension of the dataset:', train_player_away.shape)\n",
    "train_player_away.head(n=3)"
   ]
  },
  {
   "cell_type": "code",
   "execution_count": null,
   "metadata": {},
   "outputs": [
    {
     "name": "stdout",
     "output_type": "stream",
     "text": [
      "<class 'pandas.core.frame.DataFrame'>\n",
      "RangeIndex: 236132 entries, 0 to 236131\n",
      "Columns: 307 entries, ID to PLAYER_SHOTS_OFF_TARGET_5_last_match_std\n",
      "dtypes: float64(302), int64(1), object(4)\n",
      "memory usage: 553.1+ MB\n"
     ]
    }
   ],
   "source": [
    "train_player_away.info()"
   ]
  },
  {
   "cell_type": "code",
   "execution_count": null,
   "metadata": {
    "colab": {
     "base_uri": "https://localhost:8080/"
    },
    "id": "P4Qo6Hp3i3Ov",
    "outputId": "bd0031da-cd4c-4371-fb78-05fce54c5d2f"
   },
   "outputs": [
    {
     "name": "stdout",
     "output_type": "stream",
     "text": [
      "numero des équipes est 350\n",
      "numero des leagues est 13\n",
      "numero de jouers est 13673\n"
     ]
    }
   ],
   "source": [
    "#numero des équipes, leagues et jouers\n",
    "teams = train_player_away['TEAM_NAME'].unique()\n",
    "print(f\"Número d'équipes: {len(teams)}\")\n",
    "leagues = train_player_away['LEAGUE'].unique()\n",
    "print(f'Número de leagues: {len(leagues)}')\n",
    "players = train_player_away['PLAYER_NAME'].unique()\n",
    "print(f'Número de jouers: {len(players)}')"
   ]
  },
  {
   "cell_type": "code",
   "execution_count": null,
   "metadata": {
    "id": "BgRqU5VYuHWC"
   },
   "outputs": [],
   "source": [
    "# l'ID n'est pas associé à l'équipe!! Il y a beacoup plus des ID que des équipes\n",
    "# ID pour chaque équipe:\n",
    "team_index_dict = train_player_away.drop_duplicates(subset='TEAM_NAME').set_index('TEAM_NAME').to_dict()['ID']"
   ]
  },
  {
   "cell_type": "code",
   "execution_count": null,
   "metadata": {
    "colab": {
     "base_uri": "https://localhost:8080/",
     "height": 349
    },
    "id": "93scN6wfPCsD",
    "outputId": "8ad97d2d-e582-48cf-c704-f641147e422c"
   },
   "outputs": [
    {
     "data": {
      "application/vnd.google.colaboratory.intrinsic+json": {
       "type": "dataframe"
      },
      "text/html": [
       "\n",
       "  <div id=\"df-5be7120e-3a15-4d13-af39-09c0a6c001f9\" class=\"colab-df-container\">\n",
       "    <div>\n",
       "<style scoped>\n",
       "    .dataframe tbody tr th:only-of-type {\n",
       "        vertical-align: middle;\n",
       "    }\n",
       "\n",
       "    .dataframe tbody tr th {\n",
       "        vertical-align: top;\n",
       "    }\n",
       "\n",
       "    .dataframe thead th {\n",
       "        text-align: right;\n",
       "    }\n",
       "</style>\n",
       "<table border=\"1\" class=\"dataframe\">\n",
       "  <thead>\n",
       "    <tr style=\"text-align: right;\">\n",
       "      <th></th>\n",
       "      <th>ID</th>\n",
       "      <th>PLAYER_ACCURATE_CROSSES_season_sum</th>\n",
       "      <th>PLAYER_ACCURATE_PASSES_season_sum</th>\n",
       "      <th>PLAYER_AERIALS_WON_season_sum</th>\n",
       "      <th>PLAYER_ASSISTS_season_sum</th>\n",
       "      <th>PLAYER_BIG_CHANCES_CREATED_season_sum</th>\n",
       "      <th>PLAYER_BIG_CHANCES_MISSED_season_sum</th>\n",
       "      <th>PLAYER_BLOCKED_SHOTS_season_sum</th>\n",
       "      <th>PLAYER_CAPTAIN_season_sum</th>\n",
       "      <th>PLAYER_CLEARANCES_season_sum</th>\n",
       "      <th>...</th>\n",
       "      <th>PLAYER_STARTING_LINEUP_5_last_match_std</th>\n",
       "      <th>PLAYER_SUCCESSFUL_DRIBBLES_5_last_match_std</th>\n",
       "      <th>PLAYER_TACKLES_5_last_match_std</th>\n",
       "      <th>PLAYER_TOTAL_CROSSES_5_last_match_std</th>\n",
       "      <th>PLAYER_TOTAL_DUELS_5_last_match_std</th>\n",
       "      <th>PLAYER_YELLOWCARDS_5_last_match_std</th>\n",
       "      <th>PLAYER_PUNCHES_5_last_match_std</th>\n",
       "      <th>PLAYER_LONG_BALLS_5_last_match_std</th>\n",
       "      <th>PLAYER_LONG_BALLS_WON_5_last_match_std</th>\n",
       "      <th>PLAYER_SHOTS_OFF_TARGET_5_last_match_std</th>\n",
       "    </tr>\n",
       "  </thead>\n",
       "  <tbody>\n",
       "    <tr>\n",
       "      <th>count</th>\n",
       "      <td>236132.00000</td>\n",
       "      <td>207662.000000</td>\n",
       "      <td>207662.000000</td>\n",
       "      <td>207662.000000</td>\n",
       "      <td>232303.000000</td>\n",
       "      <td>206107.000000</td>\n",
       "      <td>206107.000000</td>\n",
       "      <td>206107.000000</td>\n",
       "      <td>24985.000000</td>\n",
       "      <td>207662.000000</td>\n",
       "      <td>...</td>\n",
       "      <td>228445.000000</td>\n",
       "      <td>179048.000000</td>\n",
       "      <td>204207.000000</td>\n",
       "      <td>204207.000000</td>\n",
       "      <td>204207.000000</td>\n",
       "      <td>228445.000000</td>\n",
       "      <td>66054.000000</td>\n",
       "      <td>0.0</td>\n",
       "      <td>0.0</td>\n",
       "      <td>0.0</td>\n",
       "    </tr>\n",
       "    <tr>\n",
       "      <th>mean</th>\n",
       "      <td>6151.37958</td>\n",
       "      <td>7.935477</td>\n",
       "      <td>22.728737</td>\n",
       "      <td>12.696791</td>\n",
       "      <td>9.282226</td>\n",
       "      <td>9.258642</td>\n",
       "      <td>7.177165</td>\n",
       "      <td>10.380671</td>\n",
       "      <td>34.673964</td>\n",
       "      <td>13.465478</td>\n",
       "      <td>...</td>\n",
       "      <td>32.590807</td>\n",
       "      <td>14.612869</td>\n",
       "      <td>21.640130</td>\n",
       "      <td>12.497872</td>\n",
       "      <td>27.032658</td>\n",
       "      <td>25.166745</td>\n",
       "      <td>2.099676</td>\n",
       "      <td>NaN</td>\n",
       "      <td>NaN</td>\n",
       "      <td>NaN</td>\n",
       "    </tr>\n",
       "    <tr>\n",
       "      <th>std</th>\n",
       "      <td>3551.66707</td>\n",
       "      <td>15.146502</td>\n",
       "      <td>20.894778</td>\n",
       "      <td>16.165656</td>\n",
       "      <td>16.387778</td>\n",
       "      <td>15.770194</td>\n",
       "      <td>14.581732</td>\n",
       "      <td>16.858181</td>\n",
       "      <td>35.226577</td>\n",
       "      <td>18.396448</td>\n",
       "      <td>...</td>\n",
       "      <td>36.436853</td>\n",
       "      <td>17.529688</td>\n",
       "      <td>19.341787</td>\n",
       "      <td>16.822583</td>\n",
       "      <td>19.397950</td>\n",
       "      <td>33.647951</td>\n",
       "      <td>11.139760</td>\n",
       "      <td>NaN</td>\n",
       "      <td>NaN</td>\n",
       "      <td>NaN</td>\n",
       "    </tr>\n",
       "    <tr>\n",
       "      <th>min</th>\n",
       "      <td>0.00000</td>\n",
       "      <td>0.000000</td>\n",
       "      <td>0.000000</td>\n",
       "      <td>0.000000</td>\n",
       "      <td>0.000000</td>\n",
       "      <td>0.000000</td>\n",
       "      <td>0.000000</td>\n",
       "      <td>0.000000</td>\n",
       "      <td>0.000000</td>\n",
       "      <td>0.000000</td>\n",
       "      <td>...</td>\n",
       "      <td>0.000000</td>\n",
       "      <td>0.000000</td>\n",
       "      <td>0.000000</td>\n",
       "      <td>0.000000</td>\n",
       "      <td>0.000000</td>\n",
       "      <td>0.000000</td>\n",
       "      <td>0.000000</td>\n",
       "      <td>NaN</td>\n",
       "      <td>NaN</td>\n",
       "      <td>NaN</td>\n",
       "    </tr>\n",
       "    <tr>\n",
       "      <th>25%</th>\n",
       "      <td>3079.00000</td>\n",
       "      <td>0.000000</td>\n",
       "      <td>6.000000</td>\n",
       "      <td>1.000000</td>\n",
       "      <td>0.000000</td>\n",
       "      <td>0.000000</td>\n",
       "      <td>0.000000</td>\n",
       "      <td>0.000000</td>\n",
       "      <td>2.000000</td>\n",
       "      <td>1.000000</td>\n",
       "      <td>...</td>\n",
       "      <td>0.000000</td>\n",
       "      <td>0.000000</td>\n",
       "      <td>0.000000</td>\n",
       "      <td>0.000000</td>\n",
       "      <td>12.000000</td>\n",
       "      <td>0.000000</td>\n",
       "      <td>0.000000</td>\n",
       "      <td>NaN</td>\n",
       "      <td>NaN</td>\n",
       "      <td>NaN</td>\n",
       "    </tr>\n",
       "    <tr>\n",
       "      <th>50%</th>\n",
       "      <td>6150.00000</td>\n",
       "      <td>1.000000</td>\n",
       "      <td>18.000000</td>\n",
       "      <td>7.000000</td>\n",
       "      <td>0.000000</td>\n",
       "      <td>0.000000</td>\n",
       "      <td>0.000000</td>\n",
       "      <td>3.000000</td>\n",
       "      <td>21.000000</td>\n",
       "      <td>6.000000</td>\n",
       "      <td>...</td>\n",
       "      <td>0.000000</td>\n",
       "      <td>12.000000</td>\n",
       "      <td>19.000000</td>\n",
       "      <td>7.000000</td>\n",
       "      <td>26.000000</td>\n",
       "      <td>0.000000</td>\n",
       "      <td>0.000000</td>\n",
       "      <td>NaN</td>\n",
       "      <td>NaN</td>\n",
       "      <td>NaN</td>\n",
       "    </tr>\n",
       "    <tr>\n",
       "      <th>75%</th>\n",
       "      <td>9227.00000</td>\n",
       "      <td>9.000000</td>\n",
       "      <td>34.000000</td>\n",
       "      <td>18.000000</td>\n",
       "      <td>14.000000</td>\n",
       "      <td>14.000000</td>\n",
       "      <td>9.000000</td>\n",
       "      <td>14.000000</td>\n",
       "      <td>66.000000</td>\n",
       "      <td>18.000000</td>\n",
       "      <td>...</td>\n",
       "      <td>70.000000</td>\n",
       "      <td>23.000000</td>\n",
       "      <td>33.000000</td>\n",
       "      <td>19.000000</td>\n",
       "      <td>39.000000</td>\n",
       "      <td>63.000000</td>\n",
       "      <td>0.000000</td>\n",
       "      <td>NaN</td>\n",
       "      <td>NaN</td>\n",
       "      <td>NaN</td>\n",
       "    </tr>\n",
       "    <tr>\n",
       "      <th>max</th>\n",
       "      <td>12302.00000</td>\n",
       "      <td>100.000000</td>\n",
       "      <td>100.000000</td>\n",
       "      <td>100.000000</td>\n",
       "      <td>100.000000</td>\n",
       "      <td>100.000000</td>\n",
       "      <td>100.000000</td>\n",
       "      <td>100.000000</td>\n",
       "      <td>100.000000</td>\n",
       "      <td>100.000000</td>\n",
       "      <td>...</td>\n",
       "      <td>100.000000</td>\n",
       "      <td>100.000000</td>\n",
       "      <td>100.000000</td>\n",
       "      <td>100.000000</td>\n",
       "      <td>100.000000</td>\n",
       "      <td>100.000000</td>\n",
       "      <td>100.000000</td>\n",
       "      <td>NaN</td>\n",
       "      <td>NaN</td>\n",
       "      <td>NaN</td>\n",
       "    </tr>\n",
       "  </tbody>\n",
       "</table>\n",
       "<p>8 rows × 303 columns</p>\n",
       "</div>\n",
       "    <div class=\"colab-df-buttons\">\n",
       "\n",
       "  <div class=\"colab-df-container\">\n",
       "    <button class=\"colab-df-convert\" onclick=\"convertToInteractive('df-5be7120e-3a15-4d13-af39-09c0a6c001f9')\"\n",
       "            title=\"Convert this dataframe to an interactive table.\"\n",
       "            style=\"display:none;\">\n",
       "\n",
       "  <svg xmlns=\"http://www.w3.org/2000/svg\" height=\"24px\" viewBox=\"0 -960 960 960\">\n",
       "    <path d=\"M120-120v-720h720v720H120Zm60-500h600v-160H180v160Zm220 220h160v-160H400v160Zm0 220h160v-160H400v160ZM180-400h160v-160H180v160Zm440 0h160v-160H620v160ZM180-180h160v-160H180v160Zm440 0h160v-160H620v160Z\"/>\n",
       "  </svg>\n",
       "    </button>\n",
       "\n",
       "  <style>\n",
       "    .colab-df-container {\n",
       "      display:flex;\n",
       "      gap: 12px;\n",
       "    }\n",
       "\n",
       "    .colab-df-convert {\n",
       "      background-color: #E8F0FE;\n",
       "      border: none;\n",
       "      border-radius: 50%;\n",
       "      cursor: pointer;\n",
       "      display: none;\n",
       "      fill: #1967D2;\n",
       "      height: 32px;\n",
       "      padding: 0 0 0 0;\n",
       "      width: 32px;\n",
       "    }\n",
       "\n",
       "    .colab-df-convert:hover {\n",
       "      background-color: #E2EBFA;\n",
       "      box-shadow: 0px 1px 2px rgba(60, 64, 67, 0.3), 0px 1px 3px 1px rgba(60, 64, 67, 0.15);\n",
       "      fill: #174EA6;\n",
       "    }\n",
       "\n",
       "    .colab-df-buttons div {\n",
       "      margin-bottom: 4px;\n",
       "    }\n",
       "\n",
       "    [theme=dark] .colab-df-convert {\n",
       "      background-color: #3B4455;\n",
       "      fill: #D2E3FC;\n",
       "    }\n",
       "\n",
       "    [theme=dark] .colab-df-convert:hover {\n",
       "      background-color: #434B5C;\n",
       "      box-shadow: 0px 1px 3px 1px rgba(0, 0, 0, 0.15);\n",
       "      filter: drop-shadow(0px 1px 2px rgba(0, 0, 0, 0.3));\n",
       "      fill: #FFFFFF;\n",
       "    }\n",
       "  </style>\n",
       "\n",
       "    <script>\n",
       "      const buttonEl =\n",
       "        document.querySelector('#df-5be7120e-3a15-4d13-af39-09c0a6c001f9 button.colab-df-convert');\n",
       "      buttonEl.style.display =\n",
       "        google.colab.kernel.accessAllowed ? 'block' : 'none';\n",
       "\n",
       "      async function convertToInteractive(key) {\n",
       "        const element = document.querySelector('#df-5be7120e-3a15-4d13-af39-09c0a6c001f9');\n",
       "        const dataTable =\n",
       "          await google.colab.kernel.invokeFunction('convertToInteractive',\n",
       "                                                    [key], {});\n",
       "        if (!dataTable) return;\n",
       "\n",
       "        const docLinkHtml = 'Like what you see? Visit the ' +\n",
       "          '<a target=\"_blank\" href=https://colab.research.google.com/notebooks/data_table.ipynb>data table notebook</a>'\n",
       "          + ' to learn more about interactive tables.';\n",
       "        element.innerHTML = '';\n",
       "        dataTable['output_type'] = 'display_data';\n",
       "        await google.colab.output.renderOutput(dataTable, element);\n",
       "        const docLink = document.createElement('div');\n",
       "        docLink.innerHTML = docLinkHtml;\n",
       "        element.appendChild(docLink);\n",
       "      }\n",
       "    </script>\n",
       "  </div>\n",
       "\n",
       "\n",
       "<div id=\"df-aad996e5-479d-4d9a-af66-b1147438c502\">\n",
       "  <button class=\"colab-df-quickchart\" onclick=\"quickchart('df-aad996e5-479d-4d9a-af66-b1147438c502')\"\n",
       "            title=\"Suggest charts\"\n",
       "            style=\"display:none;\">\n",
       "\n",
       "<svg xmlns=\"http://www.w3.org/2000/svg\" height=\"24px\"viewBox=\"0 0 24 24\"\n",
       "     width=\"24px\">\n",
       "    <g>\n",
       "        <path d=\"M19 3H5c-1.1 0-2 .9-2 2v14c0 1.1.9 2 2 2h14c1.1 0 2-.9 2-2V5c0-1.1-.9-2-2-2zM9 17H7v-7h2v7zm4 0h-2V7h2v10zm4 0h-2v-4h2v4z\"/>\n",
       "    </g>\n",
       "</svg>\n",
       "  </button>\n",
       "\n",
       "<style>\n",
       "  .colab-df-quickchart {\n",
       "      --bg-color: #E8F0FE;\n",
       "      --fill-color: #1967D2;\n",
       "      --hover-bg-color: #E2EBFA;\n",
       "      --hover-fill-color: #174EA6;\n",
       "      --disabled-fill-color: #AAA;\n",
       "      --disabled-bg-color: #DDD;\n",
       "  }\n",
       "\n",
       "  [theme=dark] .colab-df-quickchart {\n",
       "      --bg-color: #3B4455;\n",
       "      --fill-color: #D2E3FC;\n",
       "      --hover-bg-color: #434B5C;\n",
       "      --hover-fill-color: #FFFFFF;\n",
       "      --disabled-bg-color: #3B4455;\n",
       "      --disabled-fill-color: #666;\n",
       "  }\n",
       "\n",
       "  .colab-df-quickchart {\n",
       "    background-color: var(--bg-color);\n",
       "    border: none;\n",
       "    border-radius: 50%;\n",
       "    cursor: pointer;\n",
       "    display: none;\n",
       "    fill: var(--fill-color);\n",
       "    height: 32px;\n",
       "    padding: 0;\n",
       "    width: 32px;\n",
       "  }\n",
       "\n",
       "  .colab-df-quickchart:hover {\n",
       "    background-color: var(--hover-bg-color);\n",
       "    box-shadow: 0 1px 2px rgba(60, 64, 67, 0.3), 0 1px 3px 1px rgba(60, 64, 67, 0.15);\n",
       "    fill: var(--button-hover-fill-color);\n",
       "  }\n",
       "\n",
       "  .colab-df-quickchart-complete:disabled,\n",
       "  .colab-df-quickchart-complete:disabled:hover {\n",
       "    background-color: var(--disabled-bg-color);\n",
       "    fill: var(--disabled-fill-color);\n",
       "    box-shadow: none;\n",
       "  }\n",
       "\n",
       "  .colab-df-spinner {\n",
       "    border: 2px solid var(--fill-color);\n",
       "    border-color: transparent;\n",
       "    border-bottom-color: var(--fill-color);\n",
       "    animation:\n",
       "      spin 1s steps(1) infinite;\n",
       "  }\n",
       "\n",
       "  @keyframes spin {\n",
       "    0% {\n",
       "      border-color: transparent;\n",
       "      border-bottom-color: var(--fill-color);\n",
       "      border-left-color: var(--fill-color);\n",
       "    }\n",
       "    20% {\n",
       "      border-color: transparent;\n",
       "      border-left-color: var(--fill-color);\n",
       "      border-top-color: var(--fill-color);\n",
       "    }\n",
       "    30% {\n",
       "      border-color: transparent;\n",
       "      border-left-color: var(--fill-color);\n",
       "      border-top-color: var(--fill-color);\n",
       "      border-right-color: var(--fill-color);\n",
       "    }\n",
       "    40% {\n",
       "      border-color: transparent;\n",
       "      border-right-color: var(--fill-color);\n",
       "      border-top-color: var(--fill-color);\n",
       "    }\n",
       "    60% {\n",
       "      border-color: transparent;\n",
       "      border-right-color: var(--fill-color);\n",
       "    }\n",
       "    80% {\n",
       "      border-color: transparent;\n",
       "      border-right-color: var(--fill-color);\n",
       "      border-bottom-color: var(--fill-color);\n",
       "    }\n",
       "    90% {\n",
       "      border-color: transparent;\n",
       "      border-bottom-color: var(--fill-color);\n",
       "    }\n",
       "  }\n",
       "</style>\n",
       "\n",
       "  <script>\n",
       "    async function quickchart(key) {\n",
       "      const quickchartButtonEl =\n",
       "        document.querySelector('#' + key + ' button');\n",
       "      quickchartButtonEl.disabled = true;  // To prevent multiple clicks.\n",
       "      quickchartButtonEl.classList.add('colab-df-spinner');\n",
       "      try {\n",
       "        const charts = await google.colab.kernel.invokeFunction(\n",
       "            'suggestCharts', [key], {});\n",
       "      } catch (error) {\n",
       "        console.error('Error during call to suggestCharts:', error);\n",
       "      }\n",
       "      quickchartButtonEl.classList.remove('colab-df-spinner');\n",
       "      quickchartButtonEl.classList.add('colab-df-quickchart-complete');\n",
       "    }\n",
       "    (() => {\n",
       "      let quickchartButtonEl =\n",
       "        document.querySelector('#df-aad996e5-479d-4d9a-af66-b1147438c502 button');\n",
       "      quickchartButtonEl.style.display =\n",
       "        google.colab.kernel.accessAllowed ? 'block' : 'none';\n",
       "    })();\n",
       "  </script>\n",
       "</div>\n",
       "\n",
       "    </div>\n",
       "  </div>\n"
      ],
      "text/plain": [
       "                 ID  PLAYER_ACCURATE_CROSSES_season_sum  \\\n",
       "count  236132.00000                       207662.000000   \n",
       "mean     6151.37958                            7.935477   \n",
       "std      3551.66707                           15.146502   \n",
       "min         0.00000                            0.000000   \n",
       "25%      3079.00000                            0.000000   \n",
       "50%      6150.00000                            1.000000   \n",
       "75%      9227.00000                            9.000000   \n",
       "max     12302.00000                          100.000000   \n",
       "\n",
       "       PLAYER_ACCURATE_PASSES_season_sum  PLAYER_AERIALS_WON_season_sum  \\\n",
       "count                      207662.000000                  207662.000000   \n",
       "mean                           22.728737                      12.696791   \n",
       "std                            20.894778                      16.165656   \n",
       "min                             0.000000                       0.000000   \n",
       "25%                             6.000000                       1.000000   \n",
       "50%                            18.000000                       7.000000   \n",
       "75%                            34.000000                      18.000000   \n",
       "max                           100.000000                     100.000000   \n",
       "\n",
       "       PLAYER_ASSISTS_season_sum  PLAYER_BIG_CHANCES_CREATED_season_sum  \\\n",
       "count              232303.000000                          206107.000000   \n",
       "mean                    9.282226                               9.258642   \n",
       "std                    16.387778                              15.770194   \n",
       "min                     0.000000                               0.000000   \n",
       "25%                     0.000000                               0.000000   \n",
       "50%                     0.000000                               0.000000   \n",
       "75%                    14.000000                              14.000000   \n",
       "max                   100.000000                             100.000000   \n",
       "\n",
       "       PLAYER_BIG_CHANCES_MISSED_season_sum  PLAYER_BLOCKED_SHOTS_season_sum  \\\n",
       "count                         206107.000000                    206107.000000   \n",
       "mean                               7.177165                        10.380671   \n",
       "std                               14.581732                        16.858181   \n",
       "min                                0.000000                         0.000000   \n",
       "25%                                0.000000                         0.000000   \n",
       "50%                                0.000000                         3.000000   \n",
       "75%                                9.000000                        14.000000   \n",
       "max                              100.000000                       100.000000   \n",
       "\n",
       "       PLAYER_CAPTAIN_season_sum  PLAYER_CLEARANCES_season_sum  ...  \\\n",
       "count               24985.000000                 207662.000000  ...   \n",
       "mean                   34.673964                     13.465478  ...   \n",
       "std                    35.226577                     18.396448  ...   \n",
       "min                     0.000000                      0.000000  ...   \n",
       "25%                     2.000000                      1.000000  ...   \n",
       "50%                    21.000000                      6.000000  ...   \n",
       "75%                    66.000000                     18.000000  ...   \n",
       "max                   100.000000                    100.000000  ...   \n",
       "\n",
       "       PLAYER_STARTING_LINEUP_5_last_match_std  \\\n",
       "count                            228445.000000   \n",
       "mean                                 32.590807   \n",
       "std                                  36.436853   \n",
       "min                                   0.000000   \n",
       "25%                                   0.000000   \n",
       "50%                                   0.000000   \n",
       "75%                                  70.000000   \n",
       "max                                 100.000000   \n",
       "\n",
       "       PLAYER_SUCCESSFUL_DRIBBLES_5_last_match_std  \\\n",
       "count                                179048.000000   \n",
       "mean                                     14.612869   \n",
       "std                                      17.529688   \n",
       "min                                       0.000000   \n",
       "25%                                       0.000000   \n",
       "50%                                      12.000000   \n",
       "75%                                      23.000000   \n",
       "max                                     100.000000   \n",
       "\n",
       "       PLAYER_TACKLES_5_last_match_std  PLAYER_TOTAL_CROSSES_5_last_match_std  \\\n",
       "count                    204207.000000                          204207.000000   \n",
       "mean                         21.640130                              12.497872   \n",
       "std                          19.341787                              16.822583   \n",
       "min                           0.000000                               0.000000   \n",
       "25%                           0.000000                               0.000000   \n",
       "50%                          19.000000                               7.000000   \n",
       "75%                          33.000000                              19.000000   \n",
       "max                         100.000000                             100.000000   \n",
       "\n",
       "       PLAYER_TOTAL_DUELS_5_last_match_std  \\\n",
       "count                        204207.000000   \n",
       "mean                             27.032658   \n",
       "std                              19.397950   \n",
       "min                               0.000000   \n",
       "25%                              12.000000   \n",
       "50%                              26.000000   \n",
       "75%                              39.000000   \n",
       "max                             100.000000   \n",
       "\n",
       "       PLAYER_YELLOWCARDS_5_last_match_std  PLAYER_PUNCHES_5_last_match_std  \\\n",
       "count                        228445.000000                     66054.000000   \n",
       "mean                             25.166745                         2.099676   \n",
       "std                              33.647951                        11.139760   \n",
       "min                               0.000000                         0.000000   \n",
       "25%                               0.000000                         0.000000   \n",
       "50%                               0.000000                         0.000000   \n",
       "75%                              63.000000                         0.000000   \n",
       "max                             100.000000                       100.000000   \n",
       "\n",
       "       PLAYER_LONG_BALLS_5_last_match_std  \\\n",
       "count                                 0.0   \n",
       "mean                                  NaN   \n",
       "std                                   NaN   \n",
       "min                                   NaN   \n",
       "25%                                   NaN   \n",
       "50%                                   NaN   \n",
       "75%                                   NaN   \n",
       "max                                   NaN   \n",
       "\n",
       "       PLAYER_LONG_BALLS_WON_5_last_match_std  \\\n",
       "count                                     0.0   \n",
       "mean                                      NaN   \n",
       "std                                       NaN   \n",
       "min                                       NaN   \n",
       "25%                                       NaN   \n",
       "50%                                       NaN   \n",
       "75%                                       NaN   \n",
       "max                                       NaN   \n",
       "\n",
       "       PLAYER_SHOTS_OFF_TARGET_5_last_match_std  \n",
       "count                                       0.0  \n",
       "mean                                        NaN  \n",
       "std                                         NaN  \n",
       "min                                         NaN  \n",
       "25%                                         NaN  \n",
       "50%                                         NaN  \n",
       "75%                                         NaN  \n",
       "max                                         NaN  \n",
       "\n",
       "[8 rows x 303 columns]"
      ]
     },
     "execution_count": 22,
     "metadata": {},
     "output_type": "execute_result"
    }
   ],
   "source": [
    "train_player_away.describe()"
   ]
  },
  {
   "cell_type": "code",
   "execution_count": null,
   "metadata": {
    "colab": {
     "base_uri": "https://localhost:8080/"
    },
    "id": "7dm2xVv2PFu5",
    "outputId": "424bba78-30f1-4375-cda6-7b277bb85335"
   },
   "outputs": [
    {
     "name": "stdout",
     "output_type": "stream",
     "text": [
      "<class 'pandas.core.frame.DataFrame'>\n",
      "RangeIndex: 236132 entries, 0 to 236131\n",
      "Columns: 307 entries, ID to PLAYER_SHOTS_OFF_TARGET_5_last_match_std\n",
      "dtypes: float64(302), int64(1), object(4)\n",
      "memory usage: 553.1+ MB\n"
     ]
    }
   ],
   "source": [
    "train_player_away.info()"
   ]
  },
  {
   "cell_type": "code",
   "execution_count": null,
   "metadata": {
    "colab": {
     "base_uri": "https://localhost:8080/",
     "height": 1000
    },
    "id": "HV3WD4FBRJ3W",
    "outputId": "ff6f8203-6099-46d1-e60a-8890e1c4053d"
   },
   "outputs": [
    {
     "name": "stderr",
     "output_type": "stream",
     "text": [
      "<ipython-input-71-99edf96621df>:8: UserWarning: set_ticklabels() should only be used with a fixed number of ticks, i.e. after set_ticks() or using a FixedLocator.\n",
      "  ax.set_xticklabels(top30_null.index, rotation=45, ha='right')\n"
     ]
    },
    {
     "data": {
      "image/png": "[encoded data removed]",
      "text/plain": [
       "<Figure size 1200x600 with 1 Axes>"
      ]
     },
     "metadata": {},
     "output_type": "display_data"
    },
    {
     "name": "stdout",
     "output_type": "stream",
     "text": [
      "PLAYER_LONG_BALLS_season_std                    100.000000\n",
      "PLAYER_LONG_BALLS_5_last_match_sum              100.000000\n",
      "PLAYER_SHOTS_OFF_TARGET_season_sum              100.000000\n",
      "PLAYER_CAPTAIN_season_average                   100.000000\n",
      "PLAYER_LONG_BALLS_season_average                100.000000\n",
      "PLAYER_LONG_BALLS_WON_season_average            100.000000\n",
      "PLAYER_SHOTS_OFF_TARGET_season_average          100.000000\n",
      "PLAYER_CAPTAIN_season_std                       100.000000\n",
      "PLAYER_LONG_BALLS_WON_season_std                100.000000\n",
      "PLAYER_SHOTS_OFF_TARGET_season_std              100.000000\n",
      "PLAYER_LONG_BALLS_WON_5_last_match_sum          100.000000\n",
      "PLAYER_LONG_BALLS_season_sum                    100.000000\n",
      "PLAYER_SHOTS_OFF_TARGET_5_last_match_sum        100.000000\n",
      "PLAYER_CAPTAIN_5_last_match_average             100.000000\n",
      "PLAYER_LONG_BALLS_5_last_match_average          100.000000\n",
      "PLAYER_LONG_BALLS_WON_5_last_match_average      100.000000\n",
      "PLAYER_SHOTS_OFF_TARGET_5_last_match_average    100.000000\n",
      "PLAYER_CAPTAIN_5_last_match_std                 100.000000\n",
      "PLAYER_LONG_BALLS_5_last_match_std              100.000000\n",
      "PLAYER_LONG_BALLS_WON_5_last_match_std          100.000000\n",
      "PLAYER_LONG_BALLS_WON_season_sum                100.000000\n",
      "PLAYER_SHOTS_OFF_TARGET_5_last_match_std        100.000000\n",
      "PLAYER_CAPTAIN_5_last_match_sum                  92.428811\n",
      "PLAYER_CAPTAIN_season_sum                        89.419054\n",
      "PLAYER_PUNCHES_season_std                        72.026663\n",
      "PLAYER_PUNCHES_5_last_match_std                  72.026663\n",
      "PLAYER_PUNCHES_season_sum                        71.596819\n",
      "PLAYER_PUNCHES_5_last_match_sum                  71.596819\n",
      "PLAYER_PUNCHES_season_average                    71.596819\n",
      "PLAYER_PUNCHES_5_last_match_average              71.596819\n",
      "dtype: float64\n"
     ]
    }
   ],
   "source": [
    " # analyse des éléments null sur le colomns\n",
    "\n",
    "null_percentage = (train_player_away.isnull().sum() / len(train_player_away)) * 100\n",
    "null_sorted = null_percentage.sort_values(ascending=False)\n",
    "top30_null = null_sorted.head(30)\n",
    "fig, ax = plt.subplots(figsize=(12, 6))\n",
    "ax.bar(top30_null.index, top30_null.values)\n",
    "ax.set_xticklabels(top30_null.index, rotation=45, ha='right')\n",
    "ax.set_xlabel('Columns')\n",
    "ax.set_ylabel('Percentage of null values')\n",
    "ax.set_title('Percentage of null values in the 30 columns with the most null values')\n",
    "plt.tight_layout()\n",
    "plt.show()\n",
    "\n",
    "print(null_sorted[:30])"
   ]
  },
  {
   "cell_type": "code",
   "execution_count": null,
   "metadata": {
    "colab": {
     "base_uri": "https://localhost:8080/",
     "height": 458
    },
    "id": "mw3hdQKJaF5D",
    "outputId": "fb3d9954-d855-4096-87e9-be9940935e5d"
   },
   "outputs": [
    {
     "data": {
      "text/html": [
       "<div>\n",
       "<style scoped>\n",
       "    .dataframe tbody tr th:only-of-type {\n",
       "        vertical-align: middle;\n",
       "    }\n",
       "\n",
       "    .dataframe tbody tr th {\n",
       "        vertical-align: top;\n",
       "    }\n",
       "\n",
       "    .dataframe thead th {\n",
       "        text-align: right;\n",
       "    }\n",
       "</style>\n",
       "<table border=\"1\" class=\"dataframe\">\n",
       "  <thead>\n",
       "    <tr style=\"text-align: right;\">\n",
       "      <th></th>\n",
       "      <th>0</th>\n",
       "    </tr>\n",
       "  </thead>\n",
       "  <tbody>\n",
       "    <tr>\n",
       "      <th>ID</th>\n",
       "      <td>False</td>\n",
       "    </tr>\n",
       "    <tr>\n",
       "      <th>LEAGUE</th>\n",
       "      <td>False</td>\n",
       "    </tr>\n",
       "    <tr>\n",
       "      <th>TEAM_NAME</th>\n",
       "      <td>False</td>\n",
       "    </tr>\n",
       "    <tr>\n",
       "      <th>POSITION</th>\n",
       "      <td>False</td>\n",
       "    </tr>\n",
       "    <tr>\n",
       "      <th>PLAYER_NAME</th>\n",
       "      <td>False</td>\n",
       "    </tr>\n",
       "    <tr>\n",
       "      <th>...</th>\n",
       "      <td>...</td>\n",
       "    </tr>\n",
       "    <tr>\n",
       "      <th>PLAYER_TACKLES_5_last_match_std</th>\n",
       "      <td>False</td>\n",
       "    </tr>\n",
       "    <tr>\n",
       "      <th>PLAYER_TOTAL_CROSSES_5_last_match_std</th>\n",
       "      <td>False</td>\n",
       "    </tr>\n",
       "    <tr>\n",
       "      <th>PLAYER_TOTAL_DUELS_5_last_match_std</th>\n",
       "      <td>False</td>\n",
       "    </tr>\n",
       "    <tr>\n",
       "      <th>PLAYER_YELLOWCARDS_5_last_match_std</th>\n",
       "      <td>False</td>\n",
       "    </tr>\n",
       "    <tr>\n",
       "      <th>PLAYER_PUNCHES_5_last_match_std</th>\n",
       "      <td>False</td>\n",
       "    </tr>\n",
       "  </tbody>\n",
       "</table>\n",
       "<p>285 rows × 1 columns</p>\n",
       "</div><br><label><b>dtype:</b> bool</label>"
      ],
      "text/plain": [
       "ID                                       False\n",
       "LEAGUE                                   False\n",
       "TEAM_NAME                                False\n",
       "POSITION                                 False\n",
       "PLAYER_NAME                              False\n",
       "                                         ...  \n",
       "PLAYER_TACKLES_5_last_match_std          False\n",
       "PLAYER_TOTAL_CROSSES_5_last_match_std    False\n",
       "PLAYER_TOTAL_DUELS_5_last_match_std      False\n",
       "PLAYER_YELLOWCARDS_5_last_match_std      False\n",
       "PLAYER_PUNCHES_5_last_match_std          False\n",
       "Length: 285, dtype: bool"
      ]
     },
     "execution_count": 72,
     "metadata": {},
     "output_type": "execute_result"
    }
   ],
   "source": [
    "# Je vais effacer les colomns ou on a le 100% des données manquant\n",
    "\n",
    "top22_null_values = null_sorted.head(22)\n",
    "col_to_drop = top22_null_values.index\n",
    "pla_train = train_player_away.drop(columns=col_to_drop) # nouveau dataset sans colomns qui sont null\n",
    "pla_train.isnull().all()"
   ]
  },
  {
   "cell_type": "markdown",
   "metadata": {
    "id": "iyZHkWGMdRgk"
   },
   "source": [
    "il y a encore plusieurs colomns avec beacoup des données manquant. On peut penser d'appliquer la tecnique MICE ??\n"
   ]
  },
  {
   "cell_type": "code",
   "execution_count": 73,
   "metadata": {
    "colab": {
     "base_uri": "https://localhost:8080/"
    },
    "id": "F9u5eOQDdcWJ",
    "outputId": "38d76bb2-9bea-4595-a3c7-d0dcb1471ba7"
   },
   "outputs": [
    {
     "name": "stdout",
     "output_type": "stream",
     "text": [
      "il y a 231453 lignes sur 236132 lignes totales avec au moins 1 élément null\n"
     ]
    }
   ],
   "source": [
    "# nombre des éléments null sur les lignes\n",
    "\n",
    "ele_null = pla_train.isnull().any(axis = 1)\n",
    "if ele_null.all():\n",
    "  print('toutes les lignes ont au moins 1 élément null')\n",
    "else:\n",
    "  numero = ele_null.sum()\n",
    "  print(f'il y a {numero} lignes sur {len(pla_train.index)} lignes totales avec au moins 1 élément null')"
   ]
  }
 ],
 "metadata": {
  "colab": {
   "provenance": []
  },
  "kernelspec": {
   "display_name": "data-challenge",
   "language": "python",
   "name": "python3"
  },
  "language_info": {
   "codemirror_mode": {
    "name": "ipython",
    "version": 3
   },
   "file_extension": ".py",
   "mimetype": "text/x-python",
   "name": "python",
   "nbconvert_exporter": "python",
   "pygments_lexer": "ipython3",
   "version": "3.13.0"
  }
 },
 "nbformat": 4,
 "nbformat_minor": 0
}
